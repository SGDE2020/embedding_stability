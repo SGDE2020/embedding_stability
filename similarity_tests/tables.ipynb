{
 "cells": [
  {
   "cell_type": "code",
   "execution_count": null,
   "metadata": {},
   "outputs": [],
   "source": [
    "from similarity_tables import run\n",
    "from neighbor_variance import get_file_list\n",
    "import os"
   ]
  },
  {
   "cell_type": "code",
   "execution_count": null,
   "metadata": {},
   "outputs": [],
   "source": [
    "algorithms = [\n",
    "    \"line\",\n",
    "    \"node2vec\",\n",
    "    \"sdne\",\n",
    "    \"hope\",\n",
    "    \"graphsage\",\n",
    "]\n",
    "\n",
    "datasets = [\n",
    "    \"facebook\",\n",
    "    \"protein\",\n",
    "    \"blogcatalog\",\n",
    "    \"wikipedia\",\n",
    "    \"cora\"\n",
    "]\n",
    "\n",
    "experiments = [\n",
    "    \"aligned_cossim\",\n",
    "    \"20nn_overlap\",\n",
    "    \"linproc_cossim\",\n",
    "    \"20nn_2nd_order_cossim\"\n",
    "]\n",
    "\n",
    "modes = [\n",
    "    \"mom\",\n",
    "    \"som\",\n",
    "    \"mos\"\n",
    "]\n",
    "\n",
    "r_folder = \"results/\"\n",
    "\n",
    "def get_file_list(filter_mask, directory, ending=\".npy\"):\n",
    "    if isinstance(filter_mask, str):\n",
    "        return sorted([f for f in os.listdir(directory) if filter_mask in f and f.endswith(ending)])\n",
    "    else:\n",
    "        return sorted([f for f in os.listdir(directory) if\n",
    "                    (len(filter_mask) == len(list(filter(lambda x: x in f, filter_mask))) and f.endswith(ending))])\n",
    "    \n",
    "algorithms = sorted(algorithms)\n",
    "datasets = sorted(datasets)"
   ]
  },
  {
   "cell_type": "code",
   "execution_count": null,
   "metadata": {},
   "outputs": [],
   "source": [
    "for mode in modes[:]:\n",
    "    for experiment in experiments[:]:\n",
    "        is_distance = False\n",
    "        if experiment in [\"aligned_cossim\", \"linproc_cossim\"]:\n",
    "            is_distance = True\n",
    "        exp_list = []\n",
    "        for algorithm in algorithms:\n",
    "            for dataset in datasets:\n",
    "                exp_list.extend(get_file_list(\"_\".join([algorithm, dataset, experiment]), r_folder))\n",
    "        exp_list = sorted(exp_list)\n",
    "        exp_list = list(map(lambda x: r_folder + x, exp_list))\n",
    "        output = \"tables/\" + \"_\".join([mode, experiment]) + \".csv\"\n",
    "        run(algorithms, datasets, exp_list, mode, is_distance, output)\n",
    "        "
   ]
  },
  {
   "cell_type": "code",
   "execution_count": null,
   "metadata": {},
   "outputs": [],
   "source": []
  }
 ],
 "metadata": {
  "kernelspec": {
   "display_name": "Python 3",
   "language": "python",
   "name": "python3"
  },
  "language_info": {
   "codemirror_mode": {
    "name": "ipython",
    "version": 3
   },
   "file_extension": ".py",
   "mimetype": "text/x-python",
   "name": "python",
   "nbconvert_exporter": "python",
   "pygments_lexer": "ipython3",
   "version": "3.8.3"
  }
 },
 "nbformat": 4,
 "nbformat_minor": 2
}
