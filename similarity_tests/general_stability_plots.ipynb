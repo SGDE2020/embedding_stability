{
 "cells": [
  {
   "cell_type": "code",
   "execution_count": null,
   "metadata": {},
   "outputs": [],
   "source": [
    "%matplotlib inline\n",
    "%load_ext autoreload\n",
    "import subprocess\n",
    "import pandas as pd\n",
    "import numpy as np\n",
    "import matplotlib.pyplot as plt\n",
    "import seaborn as sns\n",
    "\n",
    "from grouped_boxplots_graph_x_similarity import run\n",
    "from scale_to_latex import get_columnwidth, get_textwidth, get_figsize\n",
    "import patch_lvplot\n",
    "\n",
    "color_dict = {\"LINE\":\"#E30066\", \"HOPE\":\"#612158\", \"SDNE\":\"#F6A800\", \"GraphSAGE\":\"#00549F\", \"node2vec\":\"#57AB27\"}"
   ]
  },
  {
   "cell_type": "markdown",
   "metadata": {},
   "source": [
    "### Loading data"
   ]
  },
  {
   "cell_type": "code",
   "execution_count": null,
   "metadata": {},
   "outputs": [],
   "source": [
    "knn_df = run(\"knn\", \"results/\", \"boxplots/test\")"
   ]
  },
  {
   "cell_type": "code",
   "execution_count": null,
   "metadata": {},
   "outputs": [],
   "source": [
    "jaccard_df = run(\"jaccard\", \"results/\", \"boxplots/test\")"
   ]
  },
  {
   "cell_type": "code",
   "execution_count": null,
   "metadata": {},
   "outputs": [],
   "source": [
    "rank_df = run(\"ranks\", \"results/\", \"boxplots/test\")"
   ]
  },
  {
   "cell_type": "code",
   "execution_count": null,
   "metadata": {},
   "outputs": [],
   "source": [
    "rns_df = run(\"rns\", \"results/\", \"boxplots/test\")"
   ]
  },
  {
   "cell_type": "code",
   "execution_count": null,
   "metadata": {},
   "outputs": [],
   "source": [
    "angdiv_df = run(\"angdiv\", \"results/\", \"boxplots/test\")"
   ]
  },
  {
   "cell_type": "code",
   "execution_count": null,
   "metadata": {},
   "outputs": [],
   "source": [
    "proc_df = run(\"procrustes\", \"results/\", \"boxplots/test\")"
   ]
  },
  {
   "cell_type": "markdown",
   "metadata": {},
   "source": [
    "#### k-NN and aligned cosine similarity plots"
   ]
  },
  {
   "cell_type": "code",
   "execution_count": 4,
   "metadata": {},
   "outputs": [],
   "source": [
    "replace_dict = {\"line\":\"LINE\", \"hope\":\"HOPE\", \"sdne\":\"SDNE\", \"graphsage\":\"GraphSAGE\",\n",
    "                \"procrustes_cossim\":\"Aligned Cosine Similarity\", \"20nn_overlap\": \"20-NN Neighborhood Overlap\",\n",
    "                \"knn\":\"20-NN Neighborhood Overlap\", \"20nn_rank\": \"20-NN Ranking Invariance\", \n",
    "                \"rns\" : \"Ranked Neighborhood Stability\", \"procrustes\":\"Aligned Cosine Similarity\",\n",
    "                \"jaccard\": \"20-NN Jaccard Similarity\", \"angdiv\": \"20-NN Angle Divergence\", \"cora\":\"Cora\",\n",
    "                \"facebook\":\"Facebook\", \"blogcatalog\": \"BlogCatalog\", \"protein\":\"Protein\", \"wikipedia\":\"Wikipedia\"}"
   ]
  },
  {
   "cell_type": "code",
   "execution_count": null,
   "metadata": {},
   "outputs": [],
   "source": [
    "columnwidth = get_columnwidth()\n",
    "textwidth = get_textwidth()\n",
    "light_gray = \".8\"\n",
    "dark_gray =\".15\"\n",
    "sns.set(context=\"notebook\", style=\"whitegrid\", font_scale=1,\n",
    "        rc={\"axes.edgecolor\": light_gray, \"xtick.color\": dark_gray,\n",
    "            \"ytick.color\": dark_gray, \"xtick.bottom\": True,\n",
    "            \"font.size\":8,\"axes.titlesize\":6,\"axes.labelsize\":6, \"xtick.labelsize\":6, \"legend.fontsize\":6, \n",
    "            \"ytick.labelsize\":6, \"axes.linewidth\":1, \n",
    "            \"xtick.minor.width\":0.5, \"xtick.major.width\":0.5,\n",
    "            \"ytick.minor.width\":0.5, \"ytick.major.width\":0.5, \"lines.linewidth\": 0.7,\n",
    "            \"xtick.major.size\": 3,\n",
    "            \"ytick.major.size\": 3,\n",
    "            \"xtick.minor.size\": 2,\n",
    "            \"ytick.minor.size\": 2,\n",
    "            \"grid.linewidth\":0.5\n",
    "           })\n",
    "\n",
    "width, height, aspect = get_figsize(textwidth, wf=1/2)\n",
    "print(width, height, aspect)"
   ]
  },
  {
   "cell_type": "code",
   "execution_count": null,
   "metadata": {},
   "outputs": [],
   "source": [
    "# Plot aligned cosine similarity\n",
    "\n",
    "df = proc_df.replace(to_replace=replace_dict)\n",
    "df[\"algorithm\"] = pd.Categorical(df[\"algorithm\"], [\"HOPE\", \"LINE\", \"node2vec\", \"SDNE\", \"GraphSAGE\"])\n",
    "df = df.sort_values(by=[\"graph\", \"algorithm\"])\n",
    "\n",
    "g = sns.catplot(data=df, x=\"graph\", y=\"similarity\", col=\"experiment\", kind=\"boxen\", hue=\"algorithm\", legend=False,\n",
    "            palette=color_dict, height=width/2, aspect=2)\n",
    "g.set_ylabels(\"Aligned Cosine Similarity\")\n",
    "g.set_xlabels(\"\")\n",
    "g.axes[0,0].legend(loc='upper center', bbox_to_anchor=(0.45, -0.16), fancybox=False, shadow=False, ncol=5)\n",
    "g.axes[0,0].set_ylim(-0.2, 1)\n",
    "g.set_titles(\"\")\n",
    "g.savefig(\"boxplots/cossim_boxen.pdf\", bbox_inches=\"tight\")"
   ]
  },
  {
   "cell_type": "code",
   "execution_count": null,
   "metadata": {},
   "outputs": [],
   "source": [
    "# Plot k-NN overlap\n",
    "\n",
    "df = knn_df.replace(to_replace=replace_dict)\n",
    "df[\"algorithm\"] = pd.Categorical(df[\"algorithm\"], [\"HOPE\", \"LINE\", \"node2vec\", \"SDNE\", \"GraphSAGE\"])\n",
    "df = df.sort_values(by=[\"graph\", \"algorithm\"])\n",
    "\n",
    "g = sns.catplot(data=df, x=\"graph\", y=\"similarity\", col=\"experiment\", kind=\"boxen\", hue=\"algorithm\", legend=False,\n",
    "                palette=color_dict, height=width/2, aspect=2)\n",
    "g.set_ylabels(\"20-NN Neighborhood Overlap\")\n",
    "g.set_xlabels(\"\")\n",
    "plt.yticks(np.arange(0, 1.1, 0.2))\n",
    "g.axes[0,0].legend(loc='upper center', bbox_to_anchor=(0.45, -0.16), fancybox=False, shadow=False, ncol=5)\n",
    "g.set_titles(\"\")\n",
    "g.savefig(\"boxplots/knn_boxen.pdf\", bbox_inches=\"tight\")"
   ]
  },
  {
   "cell_type": "code",
   "execution_count": null,
   "metadata": {},
   "outputs": [],
   "source": [
    "# Plot k-NN Jaccard similarity\n",
    "\n",
    "df = jaccard_df.replace(to_replace=replace_dict)\n",
    "df[\"algorithm\"] = pd.Categorical(df[\"algorithm\"], [\"HOPE\", \"LINE\", \"node2vec\", \"SDNE\", \"GraphSAGE\"])\n",
    "df = df.sort_values(by=[\"graph\", \"algorithm\"])\n",
    "\n",
    "g = sns.catplot(data=df.loc[(df.graph != \"subelj_cora\") & (df.graph != \"blog_catalog\")], x=\"graph\", y=\"similarity\",\n",
    "                col=\"experiment\", kind=\"boxen\", hue=\"algorithm\", legend=False,\n",
    "                palette=color_dict, height=width/2, aspect=2)\n",
    "g.set_ylabels(\"20-NN Jaccard Similarity\")\n",
    "g.set_xlabels(\"\")\n",
    "plt.yticks(np.arange(0, 1.1, 0.2))\n",
    "g.axes[0,0].legend(loc='upper center', bbox_to_anchor=(0.45, -0.16), fancybox=False, shadow=False, ncol=5)\n",
    "#g.set_titles(\"{col_name}\")\n",
    "g.set_titles(\"\")\n",
    "g.savefig(\"boxplots/jaccard_boxen.pdf\", bbox_inches=\"tight\")"
   ]
  },
  {
   "cell_type": "code",
   "execution_count": null,
   "metadata": {},
   "outputs": [],
   "source": [
    "# Plot k-NN ranking invariance\n",
    "\n",
    "\n",
    "df = rank_df.replace(to_replace=replace_dict)\n",
    "df[\"algorithm\"] = pd.Categorical(df[\"algorithm\"], [\"HOPE\", \"LINE\", \"node2vec\", \"SDNE\", \"GraphSAGE\"])\n",
    "df = df.sort_values(by=[\"graph\", \"algorithm\"])\n",
    "\n",
    "g = sns.catplot(data=df, x=\"graph\", y=\"similarity\", col=\"experiment\", kind=\"boxen\", hue=\"algorithm\", legend=False,\n",
    "                palette=color_dict, height=width/2, aspect=2)\n",
    "g.set_ylabels(\"20-NN Ranking Invariance\")\n",
    "g.set_xlabels(\"\")\n",
    "plt.yticks(np.arange(0, 1.1, 0.2))\n",
    "g.axes[0,0].legend(loc='upper center', bbox_to_anchor=(0.45, -0.16), fancybox=False, shadow=False, ncol=5)\n",
    "#g.set_titles(\"{col_name}\")\n",
    "g.set_titles(\"\")\n",
    "g.savefig(\"plots/ranks_boxen.pdf\", bbox_inches=\"tight\")"
   ]
  },
  {
   "cell_type": "code",
   "execution_count": null,
   "metadata": {},
   "outputs": [],
   "source": [
    "# Plot ranked neighborhood stability\n",
    "\n",
    "df = rns_df.replace(to_replace=replace_dict)\n",
    "df[\"algorithm\"] = pd.Categorical(df[\"algorithm\"], [\"HOPE\", \"LINE\", \"node2vec\", \"SDNE\", \"GraphSAGE\"])\n",
    "df = df.sort_values(by=[\"graph\", \"algorithm\"])\n",
    "\n",
    "g = sns.catplot(data=df, x=\"graph\", y=\"similarity\",\n",
    "                col=\"experiment\", kind=\"boxen\", hue=\"algorithm\",\n",
    "                order=[\"BlogCatalog\", \"Cora\", \"Facebook\", \"Protein\", \"Wikipedia\"],\n",
    "                legend=False, palette=color_dict, height=width/2, aspect=2)\n",
    "g.set_ylabels(\"Ranked Neighborhood Stability\")\n",
    "g.set_xlabels(\"\")\n",
    "plt.yticks(np.arange(0, 1.1, 0.2))\n",
    "g.axes[0,0].legend(loc='upper center', bbox_to_anchor=(0.45, -0.16), fancybox=False, shadow=False, ncol=5)\n",
    "\n",
    "g.set_titles(\"\")\n",
    "g.savefig(\"plots/rns_boxen.pdf\", bbox_inches=\"tight\")"
   ]
  },
  {
   "cell_type": "code",
   "execution_count": null,
   "metadata": {},
   "outputs": [],
   "source": [
    "# Plot k-NN angle divergence\n",
    "\n",
    "df = angdiv_df.replace(to_replace=replace_dict)\n",
    "df[\"algorithm\"] = pd.Categorical(df[\"algorithm\"], [\"HOPE\", \"LINE\", \"node2vec\", \"SDNE\", \"GraphSAGE\"])\n",
    "df = df.sort_values(by=[\"graph\", \"algorithm\"])\n",
    "\n",
    "g = sns.catplot(data=df, x=\"graph\", y=\"similarity\", col=\"experiment\", kind=\"boxen\", hue=\"algorithm\", \n",
    "                order=[\"BlogCatalog\", \"Cora\", \"Facebook\", \"Protein\", \"Wikipedia\"],\n",
    "                legend=False, palette=color_dict, height=width/2, aspect=2)\n",
    "g.set_ylabels(\"20-NN Angle Divergence\")\n",
    "g.set_xlabels(\"\")\n",
    "plt.ylim(0,30)\n",
    "g.axes[0,0].legend(loc='upper center', bbox_to_anchor=(0.45, -0.16), fancybox=False, shadow=False, ncol=5)\n",
    "#g.set_titles(\"{col_name}\")\n",
    "g.set_titles(\"\")\n",
    "g.savefig(\"plots/angdiv_boxen.pdf\", bbox_inches=\"tight\")"
   ]
  },
  {
   "cell_type": "markdown",
   "metadata": {},
   "source": [
    "#### Use the following cells to see results for second-order cosine similarity and linear-shift Procrustes"
   ]
  },
  {
   "cell_type": "raw",
   "metadata": {},
   "source": [
    "cos_df = run(\"2ndcos\", \"results/\", \"boxplots/test\")"
   ]
  },
  {
   "cell_type": "raw",
   "metadata": {},
   "source": [
    "linproc_df = run(\"linproc\", \"results/\", \"boxplots/test\")"
   ]
  },
  {
   "cell_type": "raw",
   "metadata": {},
   "source": [
    "sns.set(style=\"whitegrid\", context=\"notebook\")\n",
    "df = linproc_df.replace(to_replace=replace_dict)\n",
    "df[\"algorithm\"] = pd.Categorical(df[\"algorithm\"], [\"HOPE\", \"LINE\", \"node2vec\", \"SDNE\", \"GraphSAGE\"])\n",
    "df = df.replace(to_replace={\"Node2Vec\":\"node2vec\"}).sort_values(by=[\"graph\", \"algorithm\"])\n",
    "g = sns.catplot(data=df.loc[(df.graph != \"subelj_cora\") & (df.graph != \"blog_catalog\")], x=\"graph\", y=\"similarity\", col=\"experiment\", kind=\"boxen\", hue=\"algorithm\", legend=False, height=4,\n",
    "            palette=color_dict, aspect=2)\n",
    "g.set_ylabels(\"LinProc Similarity\")\n",
    "g.set_xlabels(\"Graph\")\n",
    "g.axes[0,0].set_ylim(-0.2, 1)\n",
    "g.axes[0,0].legend(loc='upper center', bbox_to_anchor=(0.5, -0.16), fancybox=False, shadow=False, ncol=5)\n",
    "#g.set_titles(\"{col_name}\")\n",
    "g.set_titles(\"\")\n",
    "#angle = -30\n",
    "#for i in range(g.axes.shape[1]):\n",
    "#    for tick in g.axes[0, i].get_xticklabels():\n",
    "#        tick.set_rotation(angle)\n",
    "g.savefig(\"boxplots/linproc_boxen.pdf\", bbox_inches=\"tight\")\n",
    "g.savefig(\"boxplots/linproc_boxen_placeholder.png\", bbox_inches=\"tight\")"
   ]
  },
  {
   "cell_type": "raw",
   "metadata": {
    "scrolled": true
   },
   "source": [
    "df = cos_df.replace(to_replace=replace_dict)\n",
    "df[\"algorithm\"] = pd.Categorical(df[\"algorithm\"], [\"HOPE\", \"LINE\", \"node2vec\", \"SDNE\", \"GraphSAGE\"])\n",
    "df = df.sort_values(by=[\"graph\", \"algorithm\"])\n",
    "g = sns.catplot(data=df.loc[(df.graph != \"subelj_cora\") & (df.graph != \"blog_catalog\")], x=\"graph\", y=\"similarity\", col=\"experiment\", kind=\"boxen\", hue=\"algorithm\", legend=False, height=4,\n",
    "            palette=color_dict, aspect=2)\n",
    "g.set_ylabels(\"Second-Order Cosine Similarity\")\n",
    "g.set_xlabels(\"Graph\")\n",
    "g.axes[0,0].legend(loc='upper center', bbox_to_anchor=(0.5, -0.16), fancybox=False, shadow=False, ncol=5)\n",
    "#g.set_titles(\"{col_name}\")\n",
    "g.set_titles(\"\")\n",
    "#angle = -30\n",
    "#for i in range(g.axes.shape[1]):\n",
    "#    for tick in g.axes[0, i].get_xticklabels():\n",
    "#        tick.set_rotation(angle)\n",
    "g.savefig(\"boxplots/seccos_boxen.pdf\", bbox_inches=\"tight\")"
   ]
  }
 ],
 "metadata": {
  "kernelspec": {
   "display_name": "Python 3",
   "language": "python",
   "name": "python3"
  },
  "language_info": {
   "codemirror_mode": {
    "name": "ipython",
    "version": 3
   },
   "file_extension": ".py",
   "mimetype": "text/x-python",
   "name": "python",
   "nbconvert_exporter": "python",
   "pygments_lexer": "ipython3",
   "version": "3.8.3"
  }
 },
 "nbformat": 4,
 "nbformat_minor": 2
}
